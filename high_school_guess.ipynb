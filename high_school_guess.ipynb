{
 "cells": [
  {
   "cell_type": "code",
   "execution_count": null,
   "metadata": {
    "collapsed": false
   },
   "outputs": [],
   "source": [
    "import random, re\n",
    "from functools import partial\n",
    "def g(na, nb, x, y):    \n",
    "    for i, v in enumerate(x):\n",
    "        if v == y[i]:\n",
    "            na = na - 1\n",
    "        for j, w in enumerate(y):\n",
    "            if i<>j and v==w:\n",
    "                nb = nb -1\n",
    "    if na==0 and nb==0:\n",
    "        return True\n",
    "    else:\n",
    "        return False\n",
    "nums = [(x,y,z,w) for x in range(1,10) for y in range(0,10) for z in range(0,10) for w in range (0,10) if len(set([x,y,z,w]))==4]\n",
    "n = 10\n",
    "while n>0:\n",
    "    guess = map(int, list(raw_input('your guess: '))) \n",
    "    max_size = 0\n",
    "    na_next = 0\n",
    "    nb_next = 0\n",
    "    for na in [0,1,2,3,4]:\n",
    "        for nb in range(0,5-na):\n",
    "            nums_tmp = filter(partial(g,na,nb,guess), nums)  \n",
    "            if max_size<len(nums_tmp):\n",
    "                nums_best = nums_tmp\n",
    "                na_next = na\n",
    "                nb_next = nb\n",
    "                max_size = len(nums_tmp)\n",
    "    nums = nums_best\n",
    "    #print nums\n",
    "    print na_next, \"A\", nb_next, \"B\"\n",
    "    if len(nums)<=50 and len(nums)>=2:\n",
    "        print nums\n",
    "    if len(nums)<=1:\n",
    "        guess = map(int, list(raw_input('last chance: '))) \n",
    "        nums = filter(partial(g,4,0,guess), nums)  \n",
    "        if len(nums)==1:\n",
    "            print nums, \"Yes. You got it.\"\n",
    "        else:\n",
    "            print \"Sorry. It is \", nums, \".\"\n",
    "        break\n"
   ]
  }
 ],
 "metadata": {
  "anaconda-cloud": {},
  "kernelspec": {
   "display_name": "Python 2",
   "language": "python",
   "name": "python2"
  },
  "language_info": {
   "codemirror_mode": {
    "name": "ipython",
    "version": 2
   },
   "file_extension": ".py",
   "mimetype": "text/x-python",
   "name": "python",
   "nbconvert_exporter": "python",
   "pygments_lexer": "ipython2",
   "version": "2.7.9"
  }
 },
 "nbformat": 4,
 "nbformat_minor": 0
}
