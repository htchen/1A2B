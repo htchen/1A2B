{
 "cells": [
  {
   "cell_type": "code",
   "execution_count": 2,
   "metadata": {
    "collapsed": false
   },
   "outputs": [
    {
     "name": "stdout",
     "output_type": "stream",
     "text": [
      "5836\n",
      "?A?B1 0\n",
      "1 0\n",
      "1234\n",
      "?A?B1 2\n",
      "1 2\n",
      "9132\n",
      "?A?B1 3\n",
      "1 3\n",
      "[(2, 9, 3, 1)]\n"
     ]
    }
   ],
   "source": [
    "import random, re\n",
    "from functools import partial\n",
    "def f(na, nb, x, y):\n",
    "    for i, v in enumerate(x):\n",
    "        if v == y[i]:\n",
    "            na = na - 1\n",
    "        for j, w in enumerate(y):\n",
    "            if i<>j and v==w:\n",
    "                nb = nb -1\n",
    "    if na==0 and nb==0:\n",
    "        return True\n",
    "    else:\n",
    "        return False\n",
    "nums = [(x,y,z,w) for x in range(1,10) for y in range(0,10) for z in range(0,10) for w in range (0,10) if len(set([x,y,z,w]))==4]\n",
    "n = 10\n",
    "while n>0:\n",
    "    guess = random.choice(nums)\n",
    "    print ''.join(map(str, guess))\n",
    "    res0, res1 = map(int, filter(lambda x: x is not '', re.split('[, AB]', raw_input('?A?B'))))\n",
    "    print res0, res1\n",
    "    nums = filter(partial(f,res0,res1,guess), nums)  # f()  [(1,2,3,4),(5,6,7,8)]\n",
    "    if len(nums)<=1 :\n",
    "        print nums\n",
    "        break\n",
    "    n = n-1    "
   ]
  }
 ],
 "metadata": {
  "kernelspec": {
   "display_name": "Python 2",
   "language": "python",
   "name": "python2"
  },
  "language_info": {
   "codemirror_mode": {
    "name": "ipython",
    "version": 2
   },
   "file_extension": ".py",
   "mimetype": "text/x-python",
   "name": "python",
   "nbconvert_exporter": "python",
   "pygments_lexer": "ipython2",
   "version": "2.7.9"
  }
 },
 "nbformat": 4,
 "nbformat_minor": 0
}
